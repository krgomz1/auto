{
 "cells": [
  {
   "cell_type": "code",
   "execution_count": 24,
   "metadata": {},
   "outputs": [],
   "source": [
    "# -*- coding: utf-8 -*-\n",
    "\n",
    "from selenium import webdriver\n",
    "import time\n",
    "\n",
    "driver = webdriver.Chrome('C://chromedriver.exe')\n",
    "\n",
    "# 3초 기다려라\n",
    "driver.implicitly_wait(3)\n",
    "\n",
    "# HCMS 사이트 열어라\n",
    "site = 'http://hcms.hunet.co.kr/'\n",
    "driver.get(site)\n",
    "\n",
    "# 로그인해라\n",
    "driver.find_element_by_name('ID').send_keys('krgomz')\n",
    "driver.find_element_by_name('PWD').send_keys('5T4r3e2w1q!')\n",
    "driver.find_element_by_id('btnLogin').click()\n",
    "driver.implicitly_wait(3)"
   ]
  },
  {
   "cell_type": "code",
   "execution_count": 25,
   "metadata": {},
   "outputs": [],
   "source": [
    "# 해당 과정포팅 사이트\n",
    "site1 = 'http://hcms.hunet.co.kr/Porting/IndexList.aspx?partnerId=thermp&courseCd='\n",
    "site2 = '&pageIndex=0&pageSize=10&searchPartnerNm=&searchCourseNm=&searchCpPortingConfirmYn='\n",
    "\n",
    "# 해당 코드\n",
    "code = 'HLSC33624'\n",
    "\n",
    "# 해당 포팅 사이트로 이동\n",
    "driver.get(site1 + code + site2)\n",
    "driver.implicitly_wait(3)\n",
    "time.sleep(2)"
   ]
  },
  {
   "cell_type": "code",
   "execution_count": 22,
   "metadata": {},
   "outputs": [],
   "source": [
    "# 1차시 체크\n",
    "driver.find_element_by_id('ctl00_ContentPlaceHolder1_Lvw_ctrl1_Div6').click()\n",
    "driver.implicitly_wait(3)\n",
    "time.sleep(2)"
   ]
  },
  {
   "cell_type": "code",
   "execution_count": 23,
   "metadata": {},
   "outputs": [
    {
     "name": "stdout",
     "output_type": "stream",
     "text": [
      "HLSC33624 완료\n"
     ]
    }
   ],
   "source": [
    "# 경고표시 정리\n",
    "driver.implicitly_wait(5)\n",
    "time.sleep(2)\n",
    "driver.switch_to.alert.accept()\n",
    "print(code, '완료')\n",
    "driver.quit()"
   ]
  },
  {
   "cell_type": "code",
   "execution_count": null,
   "metadata": {},
   "outputs": [],
   "source": []
  }
 ],
 "metadata": {
  "kernelspec": {
   "display_name": "Python 3",
   "language": "python",
   "name": "python3"
  },
  "language_info": {
   "codemirror_mode": {
    "name": "ipython",
    "version": 3
   },
   "file_extension": ".py",
   "mimetype": "text/x-python",
   "name": "python",
   "nbconvert_exporter": "python",
   "pygments_lexer": "ipython3",
   "version": "3.7.3"
  }
 },
 "nbformat": 4,
 "nbformat_minor": 4
}
