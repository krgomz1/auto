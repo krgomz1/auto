{
 "cells": [
  {
   "cell_type": "code",
   "execution_count": 1,
   "metadata": {},
   "outputs": [],
   "source": [
    "# 모듈 추가\n",
    "import pandas as pd\n",
    "import time\n",
    "\n",
    "# 날짜 변수 추가\n",
    "today = time.strftime('%y%m%d')\n",
    "this_month = int(time.strftime('%m')) - 1  #전월 데이터\n",
    "\n",
    "# 매출 엑셀파일 불러오기\n",
    "raw_df = pd.read_excel('D:/0. 원단위/매출 RAW/raw_20200213.xlsx', sheet_name='Sheet1')"
   ]
  },
  {
   "cell_type": "code",
   "execution_count": 3,
   "metadata": {},
   "outputs": [],
   "source": [
    "# 맵핑 엑셀파일 불러오기\n",
    "map_df = pd.read_excel('D:/0. 원단위/`과목-CP사 맵핑-191001.xlsx', sheet_name='mapping Data')"
   ]
  },
  {
   "cell_type": "code",
   "execution_count": 5,
   "metadata": {},
   "outputs": [],
   "source": [
    "# raw_df 열 삭제\n",
    "del_cols = ['정산년월', '학습시작일', '단가', '공급가액', '세액', '튜터비',\n",
    "            '저작권료', 'cp사정산금액', '마케팅수수료', '제휴사명']\n",
    "\n",
    "for col in del_cols :\n",
    "    del raw_df[col]\n",
    "\n",
    "df = raw_df[raw_df['도입여부'] != '온라인과정X']"
   ]
  },
  {
   "cell_type": "code",
   "execution_count": 10,
   "metadata": {},
   "outputs": [],
   "source": [
    "# 날짜 정리하기\n",
    "pd.options.mode.chained_assignment = None  # default='warn'\n",
    "df['계산서발행일'] = df['계산서발행일'].astype('datetime64[ns]')\n",
    "df['매출연도'] = df['계산서발행일'].dt.year  #매출연도 추가\n",
    "df['매출월'] = df['계산서발행일'].dt.month   #매출월 추가\n"
   ]
  },
  {
   "cell_type": "code",
   "execution_count": 12,
   "metadata": {},
   "outputs": [],
   "source": [
    "# 매핑을 위해 데이터 정리\n",
    "df2 = df.rename(columns={'과목명(품목)': '맵핑용 과목명'})\n",
    "df2['맵핑용 과목명'] = df2['맵핑용 과목명'].map(lambda x: x.lstrip('과목: '))\n",
    "map_df = map_df.rename(columns={'과정명': '맵핑용 과목명'})\n",
    "\n",
    "## 카테고리 및 CP사 맵핑하기\n",
    "results = pd.merge(df2, map_df, on='맵핑용 과목명', how = 'left')\n",
    "nan_rows = results[results['대분류명'].isnull()]"
   ]
  },
  {
   "cell_type": "code",
   "execution_count": 13,
   "metadata": {},
   "outputs": [],
   "source": [
    "# 결과\n",
    "writer = pd.ExcelWriter('D:/0. 원단위/매출 RAW/results_' + today + '_사전작업용.xlsx')\n",
    "results.to_excel(writer, sheet_name='raw')\n",
    "nan_rows.to_excel(writer, sheet_name='미맵핑')\n",
    "writer.save()"
   ]
  },
  {
   "cell_type": "code",
   "execution_count": null,
   "metadata": {},
   "outputs": [],
   "source": []
  }
 ],
 "metadata": {
  "kernelspec": {
   "display_name": "Python 3",
   "language": "python",
   "name": "python3"
  },
  "language_info": {
   "codemirror_mode": {
    "name": "ipython",
    "version": 3
   },
   "file_extension": ".py",
   "mimetype": "text/x-python",
   "name": "python",
   "nbconvert_exporter": "python",
   "pygments_lexer": "ipython3",
   "version": "3.7.3"
  }
 },
 "nbformat": 4,
 "nbformat_minor": 4
}
