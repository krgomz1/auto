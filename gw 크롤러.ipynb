{
 "cells": [
  {
   "cell_type": "code",
   "execution_count": 1,
   "metadata": {},
   "outputs": [],
   "source": [
    "from selenium import webdriver\n",
    "\n",
    "path = 'D:/1. 업무/6. 도입업무/★신규카테고리 맵핑/신규카테고리 등록/20190827_과정등록파일.xls'\n",
    "\n",
    "#크롬드라이버 열기\n",
    "driver = webdriver.Chrome('C://chromedriver.exe')\n",
    "\n",
    "#3초 기다려라\n",
    "driver.implicitly_wait(3)"
   ]
  },
  {
   "cell_type": "code",
   "execution_count": 2,
   "metadata": {},
   "outputs": [],
   "source": [
    "#HSM 사이트 열어라\n",
    "driver.get('http://gw.hunet.co.kr/Task/TaskList.aspx?requestType=MyTeam')"
   ]
  },
  {
   "cell_type": "code",
   "execution_count": 3,
   "metadata": {},
   "outputs": [],
   "source": [
    "#로그인해라\n",
    "driver.find_element_by_name('txtUserId').send_keys('krgomz')\n",
    "driver.find_element_by_name('txtPassword').send_keys('rlagustn1')\n",
    "driver.find_element_by_id('btnLogon').click()"
   ]
  },
  {
   "cell_type": "code",
   "execution_count": 6,
   "metadata": {},
   "outputs": [],
   "source": [
    "#상태값을 확인해서 대기 중인 과정 가져오기 (1: 대기, 2: 처리중, 3: 완료, 4: 보류)\n",
    "driver.find_element_by_xpath(\"//select[@id='ctl00_ContentPlaceHolder1_ddlStatusType']/option[@value='3']\").click()"
   ]
  },
  {
   "cell_type": "code",
   "execution_count": 44,
   "metadata": {},
   "outputs": [],
   "source": [
    "taget =[]\n",
    "for num in list(range(10)):\n",
    "    sel = \"#contents > div.contents_sub.clearfix > div.tbl_list > table > tbody > tr:nth-child(\" + str(num) +\")\"\n",
    "    for row in driver.find_elements_by_css_selector(sel):\n",
    "        cell = row.find_elements_by_tag_name(\"td\")[1]\n",
    "        taget.append(cell.text)\n",
    "    \n",
    "#contents > div.contents_sub.clearfix > div.tbl_list > table > tbody > tr:nth-child(1)\n",
    "#contents > div.contents_sub.clearfix > div.tbl_list > table > tbody > tr:nth-child(2)"
   ]
  },
  {
   "cell_type": "code",
   "execution_count": 45,
   "metadata": {},
   "outputs": [
    {
     "data": {
      "text/plain": [
       "['267905',\n",
       " '267904',\n",
       " '267903',\n",
       " '267902',\n",
       " '267901',\n",
       " '267900',\n",
       " '267887',\n",
       " '267886',\n",
       " '267885']"
      ]
     },
     "execution_count": 45,
     "metadata": {},
     "output_type": "execute_result"
    }
   ],
   "source": [
    "taget"
   ]
  },
  {
   "cell_type": "code",
   "execution_count": 51,
   "metadata": {},
   "outputs": [
    {
     "ename": "AttributeError",
     "evalue": "'list' object has no attribute 'find_elements_by_tag_name'",
     "output_type": "error",
     "traceback": [
      "\u001b[1;31m---------------------------------------------------------------------------\u001b[0m",
      "\u001b[1;31mAttributeError\u001b[0m                            Traceback (most recent call last)",
      "\u001b[1;32m<ipython-input-51-2abde57e4fc9>\u001b[0m in \u001b[0;36m<module>\u001b[1;34m\u001b[0m\n\u001b[0;32m      1\u001b[0m \u001b[0msel\u001b[0m \u001b[1;33m=\u001b[0m \u001b[1;34m'#ctl00_ContentPlaceHolder1_updatePanel1 > div.contents_sub.clearfix > div.tbl_detail > table > thead > tr > th'\u001b[0m\u001b[1;33m\u001b[0m\u001b[1;33m\u001b[0m\u001b[0m\n\u001b[0;32m      2\u001b[0m \u001b[0mtest1\u001b[0m \u001b[1;33m=\u001b[0m \u001b[0mdriver\u001b[0m\u001b[1;33m.\u001b[0m\u001b[0mfind_elements_by_css_selector\u001b[0m\u001b[1;33m(\u001b[0m\u001b[0msel\u001b[0m\u001b[1;33m)\u001b[0m\u001b[1;33m\u001b[0m\u001b[1;33m\u001b[0m\u001b[0m\n\u001b[1;32m----> 3\u001b[1;33m \u001b[0mcell\u001b[0m \u001b[1;33m=\u001b[0m \u001b[0mtest1\u001b[0m\u001b[1;33m.\u001b[0m\u001b[0mfind_elements_by_tag_name\u001b[0m\u001b[1;33m(\u001b[0m\u001b[1;34m\"th\"\u001b[0m\u001b[1;33m)\u001b[0m\u001b[1;33m[\u001b[0m\u001b[1;36m1\u001b[0m\u001b[1;33m]\u001b[0m\u001b[1;33m\u001b[0m\u001b[1;33m\u001b[0m\u001b[0m\n\u001b[0m\u001b[0;32m      4\u001b[0m \u001b[0mprint\u001b[0m\u001b[1;33m(\u001b[0m\u001b[0mcell\u001b[0m\u001b[1;33m)\u001b[0m\u001b[1;33m\u001b[0m\u001b[1;33m\u001b[0m\u001b[0m\n\u001b[0;32m      5\u001b[0m \u001b[1;33m\u001b[0m\u001b[0m\n",
      "\u001b[1;31mAttributeError\u001b[0m: 'list' object has no attribute 'find_elements_by_tag_name'"
     ]
    }
   ],
   "source": [
    "sel = '#ctl00_ContentPlaceHolder1_updatePanel1 > div.contents_sub.clearfix > div.tbl_detail > table > thead > tr > th'\n",
    "test1 = driver.find_elements_by_css_selector(sel)\n",
    "cell = test1.find_elements_by_tag_name(\"th\")[1]\n",
    "print(cell)\n",
    "    \n",
    "    "
   ]
  },
  {
   "cell_type": "code",
   "execution_count": null,
   "metadata": {},
   "outputs": [],
   "source": []
  }
 ],
 "metadata": {
  "kernelspec": {
   "display_name": "Python 3",
   "language": "python",
   "name": "python3"
  },
  "language_info": {
   "codemirror_mode": {
    "name": "ipython",
    "version": 3
   },
   "file_extension": ".py",
   "mimetype": "text/x-python",
   "name": "python",
   "nbconvert_exporter": "python",
   "pygments_lexer": "ipython3",
   "version": "3.7.3"
  }
 },
 "nbformat": 4,
 "nbformat_minor": 4
}
