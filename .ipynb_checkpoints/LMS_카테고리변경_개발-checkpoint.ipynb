{
 "cells": [
  {
   "cell_type": "code",
   "execution_count": 1,
   "metadata": {},
   "outputs": [],
   "source": [
    "from selenium import webdriver\n",
    "\n",
    "#크롬드라이버 열기\n",
    "driver = webdriver.Edge('D:/py/edgedriver_win64/msedgedriver.exe')\n",
    "\n",
    "#3초 기다려라\n",
    "driver.implicitly_wait(3)\n",
    "\n",
    "#HSM 사이트 열어라\n",
    "driver.get('https://ims.hunet.co.kr/Login/Index?appId=55f6a9f448614a62ba88132da2b48e90&returnUrl=https%3a%2f%2flms.hunet.co.kr%2fLogin.aspx&iframeUrl=')\n",
    "\n",
    "#로그인해라\n",
    "driver.find_element_by_name('UserName').send_keys('krgomz')\n",
    "driver.find_element_by_name('Password').send_keys('1A2s3d4f5g!')\n",
    "driver.find_element_by_id('btnLogon').click()"
   ]
  },
  {
   "cell_type": "code",
   "execution_count": 12,
   "metadata": {},
   "outputs": [],
   "source": [
    "# 과목상세페이지 url\n",
    "\n",
    "url1 = 'https://lms.hunet.co.kr/Process/Course/View.aspx?courseCd='\n",
    "url2 = '&orderField=REG_DATE&orderType=DESC&searchCol=COURSE_CD&searchKey=HLSC37738&searchCategoryCd=&cpCd=&refundYn=&individualYn=&abilityYn=&pageSize=20&page=1&mType='\n",
    "과목코드 = 'HLSC37738'\n",
    "\n",
    "driver.get(url1+과목코드+url2)"
   ]
  },
  {
   "cell_type": "code",
   "execution_count": 14,
   "metadata": {},
   "outputs": [],
   "source": [
    "driver.find_element_by_xpath('//*[@id=\"aspnetForm\"]/table/tbody/tr/td[2]/table[2]/tbody/tr/td/div[1]/input').click()\n"
   ]
  },
  {
   "cell_type": "code",
   "execution_count": 30,
   "metadata": {},
   "outputs": [],
   "source": [
    "# 과목상세페이지 수정 url\n",
    "\n",
    "u1 = 'https://lms.hunet.co.kr/Process/Course/Modify.aspx?courseCd='\n",
    "u2 = '%20%20%20%20&orderField=REG_DATE%20%20%20%20&orderType=DESC%20%20%20%20&searchCol=COURSE_CD%20%20%20%20&searchKey=HLSC37738%20%20%20%20&searchCategoryCd=%20%20%20%20&cpCd=%20%20%20%20&refundYn=%20%20%20%20&individualYn=%20%20%20%20&abilityYn=%20%20%20%20&pageSize=20%20%20%20%20&page=1'\n",
    "\n",
    "driver.get(u1+과목코드+u2)\n"
   ]
  },
  {
   "cell_type": "code",
   "execution_count": 24,
   "metadata": {},
   "outputs": [],
   "source": [
    "전화영어 = '//*[@id=\"categoryCd_1\"]/select/option[7]'\n",
    "driver.find_element_by_xpath(전화영어).click()\n",
    "\n",
    "분류선택 ='//*[@id=\"categoryCd_2\"]/select/option[1]'\n",
    "driver.find_element_by_xpath(분류선택).click()\n",
    "\n",
    "driver.find_element_by_id('ctl00_ContentPlaceHolder1_btnModify').click()"
   ]
  },
  {
   "cell_type": "code",
   "execution_count": 25,
   "metadata": {},
   "outputs": [
    {
     "name": "stderr",
     "output_type": "stream",
     "text": [
      "d:\\py\\miniconda\\lib\\site-packages\\ipykernel_launcher.py:4: DeprecationWarning: use driver.switch_to.alert instead\n",
      "  after removing the cwd from sys.path.\n"
     ]
    }
   ],
   "source": [
    "# 경고창 확인\n",
    "from selenium.common.exceptions import NoAlertPresentException\n",
    "try:\n",
    "    driver.switch_to_alert().accept()\n",
    "\n",
    "except NoAlertPresentException as e:\n",
    "    print(\"no alert\"+ code)"
   ]
  },
  {
   "cell_type": "code",
   "execution_count": 27,
   "metadata": {},
   "outputs": [],
   "source": [
    "카테고리1 = '//*[@id=\"aspnetForm\"]/table/tbody/tr/td[2]/table[2]/tbody/tr/td/table/tbody/tr[3]/td[2]/table/tbody/tr/td[1]/div/select/option[7]'\n",
    "driver.find_element_by_xpath(카테고리1).click()\n"
   ]
  },
  {
   "cell_type": "code",
   "execution_count": 29,
   "metadata": {},
   "outputs": [
    {
     "name": "stderr",
     "output_type": "stream",
     "text": [
      "d:\\py\\miniconda\\lib\\site-packages\\ipykernel_launcher.py:6: DeprecationWarning: use driver.switch_to.alert instead\n",
      "  \n"
     ]
    }
   ],
   "source": [
    "driver.find_element_by_id('ctl00_ContentPlaceHolder1_btnModify').click()\n",
    "\n",
    "# 경고창 확인\n",
    "from selenium.common.exceptions import NoAlertPresentException\n",
    "try:\n",
    "    driver.switch_to_alert().accept()\n",
    "\n",
    "except NoAlertPresentException as e:\n",
    "    print(\"no alert\"+ code)"
   ]
  },
  {
   "cell_type": "code",
   "execution_count": null,
   "metadata": {},
   "outputs": [],
   "source": []
  }
 ],
 "metadata": {
  "kernelspec": {
   "display_name": "Python 3",
   "language": "python",
   "name": "python3"
  },
  "language_info": {
   "codemirror_mode": {
    "name": "ipython",
    "version": 3
   },
   "file_extension": ".py",
   "mimetype": "text/x-python",
   "name": "python",
   "nbconvert_exporter": "python",
   "pygments_lexer": "ipython3",
   "version": "3.7.3"
  }
 },
 "nbformat": 4,
 "nbformat_minor": 4
}
