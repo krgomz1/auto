{
 "cells": [
  {
   "cell_type": "code",
   "execution_count": null,
   "metadata": {},
   "outputs": [],
   "source": [
    "def url_check(site, code):\n",
    "    from selenium import webdriver\n",
    "    import time\n",
    "    # 크롬드라이버 열기\n",
    "    driver = webdriver.Chrome('C://chromedriver.exe')\n",
    "\n",
    "    # 3초 기다려라\n",
    "    driver.implicitly_wait(3)\n",
    "\n",
    "    # HCMS 사이트 열어라\n",
    "    driver.get(site)\n",
    "\n",
    "    # 로그인해라\n",
    "    driver.find_element_by_name('ID').send_keys('krgomz')\n",
    "    driver.find_element_by_name('PWD').send_keys('5T4r3e2w1q!')\n",
    "    driver.find_element_by_id('btnLogin').click()\n",
    "\n",
    "    # 해당 과정포팅 사이트\n",
    "    site1 = 'http://hcms.hunet.co.kr/Porting/IndexList.aspx?partnerId=thermp&courseCd='\n",
    "    site2 = '&pageIndex=0&pageSize=10&searchPartnerNm=&searchCourseNm=&searchCpPortingConfirmYn='\n",
    "\n",
    "    # 맛보기 체커\n",
    "    driver.get(site1 + code + site2)\n",
    "    time.sleep(7)\n",
    "    driver.find_element_by_id('ctl00_ContentPlaceHolder1_Lvw_ctrl1_Div6').click()\n",
    "    time.sleep(7)\n",
    "\n",
    "    # 경고창 확인\n",
    "    from selenium.common.exceptions import NoAlertPresentException\n",
    "    try:\n",
    "        driver.switch_to_alert().accept()\n",
    "        \n",
    "    except NoAlertPresentException as e: \n",
    "        print(\"no alert\")\n",
    "    \n",
    "    driver.quit()\n",
    "    print(code, '완료')\n",
    "\n",
    "\n",
    "code =[]\n",
    "code = input('과목코드를 입력하세요 : ').split()\n",
    "print(len(code),'개 실행')\n",
    "\n",
    "site1 = 'http://hcms.hunet.co.kr/'\n",
    "for code1 in code:\n",
    "    url_check(site1, code1)\n",
    "\n",
    "print(len(code),'개 완료')"
   ]
  }
 ],
 "metadata": {
  "kernelspec": {
   "display_name": "Python 3",
   "language": "python",
   "name": "python3"
  },
  "language_info": {
   "codemirror_mode": {
    "name": "ipython",
    "version": 3
   },
   "file_extension": ".py",
   "mimetype": "text/x-python",
   "name": "python",
   "nbconvert_exporter": "python",
   "pygments_lexer": "ipython3",
   "version": "3.7.3"
  }
 },
 "nbformat": 4,
 "nbformat_minor": 4
}
