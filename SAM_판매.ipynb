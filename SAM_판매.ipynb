{
 "cells": [
  {
   "cell_type": "code",
   "execution_count": 2,
   "metadata": {},
   "outputs": [],
   "source": [
    "from selenium import webdriver\n",
    "import time\n",
    "\n",
    "# 크롬드라이버 열기\n",
    "driver = webdriver.Chrome('C://chromedriver.exe')\n",
    "\n",
    "# 3초 기다려라\n",
    "driver.implicitly_wait(3)\n",
    "\n",
    "#HSM 사이트 열어라\n",
    "driver.get('https://admin.hunet.co.kr/')\n",
    "\n",
    "#로그인해라\n",
    "driver.find_element_by_name('UserName').send_keys('krgomz')\n",
    "driver.find_element_by_name('Password').send_keys('1A2s3d4f5g!')\n",
    "driver.find_element_by_id('btnLogon').click()\n"
   ]
  },
  {
   "cell_type": "code",
   "execution_count": 3,
   "metadata": {},
   "outputs": [
    {
     "name": "stderr",
     "output_type": "stream",
     "text": [
      "d:\\py\\miniconda\\lib\\site-packages\\ipykernel_launcher.py:4: DeprecationWarning: use driver.switch_to.alert instead\n",
      "  after removing the cwd from sys.path.\n"
     ]
    }
   ],
   "source": [
    "#경고창 정리\n",
    "from selenium.common.exceptions import NoAlertPresentException\n",
    "try:\n",
    "    driver.switch_to_alert().accept()\n",
    "\n",
    "except NoAlertPresentException as e:\n",
    "    print(\"no alert\"+ code)\n",
    "    \n",
    "driver.implicitly_wait(3)"
   ]
  },
  {
   "cell_type": "code",
   "execution_count": 4,
   "metadata": {},
   "outputs": [],
   "source": [
    "\n",
    "code1 = 'Y00129091'\n",
    "\n",
    "site1 = 'https://admin.hunet.co.kr/Mall/Goods/Imagine/Edit.aspx?pageSize=10&page=2&idx='\n",
    "site = site1 + code1\n",
    "driver.get(site)"
   ]
  },
  {
   "cell_type": "code",
   "execution_count": 5,
   "metadata": {},
   "outputs": [
    {
     "name": "stderr",
     "output_type": "stream",
     "text": [
      "d:\\py\\miniconda\\lib\\site-packages\\ipykernel_launcher.py:4: DeprecationWarning: use driver.switch_to.alert instead\n",
      "  after removing the cwd from sys.path.\n"
     ]
    }
   ],
   "source": [
    "#경고창 정리\n",
    "from selenium.common.exceptions import NoAlertPresentException\n",
    "try:\n",
    "    driver.switch_to_alert().accept()\n",
    "\n",
    "except NoAlertPresentException as e:\n",
    "    print(\"no alert\"+ code)\n",
    "    \n",
    "driver.implicitly_wait(3)"
   ]
  },
  {
   "cell_type": "code",
   "execution_count": 12,
   "metadata": {},
   "outputs": [],
   "source": [
    "driver.find_element_by_id('SaleYn').send_keys('Y')"
   ]
  },
  {
   "cell_type": "code",
   "execution_count": 14,
   "metadata": {},
   "outputs": [],
   "source": [
    "driver.find_element_by_id('ctl00_ContentPlaceHolder1_btnSubmit').click()"
   ]
  },
  {
   "cell_type": "code",
   "execution_count": null,
   "metadata": {},
   "outputs": [],
   "source": []
  }
 ],
 "metadata": {
  "kernelspec": {
   "display_name": "Python 3",
   "language": "python",
   "name": "python3"
  },
  "language_info": {
   "codemirror_mode": {
    "name": "ipython",
    "version": 3
   },
   "file_extension": ".py",
   "mimetype": "text/x-python",
   "name": "python",
   "nbconvert_exporter": "python",
   "pygments_lexer": "ipython3",
   "version": "3.7.3"
  }
 },
 "nbformat": 4,
 "nbformat_minor": 4
}
