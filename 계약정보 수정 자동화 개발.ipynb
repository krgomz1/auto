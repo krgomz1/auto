{
 "cells": [
  {
   "cell_type": "code",
   "execution_count": 1,
   "metadata": {},
   "outputs": [],
   "source": [
    "from selenium import webdriver\n",
    "\n",
    "#크롬드라이버 열기\n",
    "driver = webdriver.Chrome('C://chromedriver.exe')\n",
    "\n",
    "#3초 기다려라\n",
    "driver.implicitly_wait(3)\n",
    "\n",
    "#HSM 사이트 열어라\n",
    "driver.get('http://hcms.hunet.co.kr/Login.aspx')"
   ]
  },
  {
   "cell_type": "code",
   "execution_count": 2,
   "metadata": {},
   "outputs": [],
   "source": [
    "#로그인해라\n",
    "driver.find_element_by_name('ID').send_keys('krgomz')\n",
    "driver.find_element_by_name('PWD').send_keys('5T4r3e2w1q!')\n",
    "driver.find_element_by_id('btnLogin').click()"
   ]
  },
  {
   "cell_type": "code",
   "execution_count": 28,
   "metadata": {},
   "outputs": [
    {
     "data": {
      "text/plain": [
       "<bound method WebElement.clear of <selenium.webdriver.remote.webelement.WebElement (session=\"06b591bf8099f76f0a57970b0a0542b6\", element=\"c44be15a-5d0b-4b66-832c-b0f481cb70d0\")>>"
      ]
     },
     "execution_count": 28,
     "metadata": {},
     "output_type": "execute_result"
    }
   ],
   "source": [
    "driver.find_element_by_name('ctl00$ContentPlaceHolder1$StartDate').clear\n",
    "driver.find_element_by_name('ctl00$ContentPlaceHolder1$StartDate').send_keys('2019-12-01')\n"
   ]
  },
  {
   "cell_type": "code",
   "execution_count": 41,
   "metadata": {},
   "outputs": [],
   "source": [
    "from selenium.webdriver.common.keys import Keys\n",
    "driver.find_element_by_xpath(\"/html/body/form/div[3]/div[2]/div/div/a\").send_keys(Keys.ENTER)"
   ]
  },
  {
   "cell_type": "code",
   "execution_count": 53,
   "metadata": {},
   "outputs": [],
   "source": [
    "def check1(code):\n",
    "    u1 = 'http://hcms.hunet.co.kr/Course/ConstractModify.aspx?partnerId=intouch&courseCd='\n",
    "    u2 = '&constractNo=2'\n",
    "    driver.get(u1+code+u2)\n",
    "\n",
    "def renew1(code):\n",
    "    u1 = 'http://hcms.hunet.co.kr/Course/ConstractModify.aspx?partnerId=intouch&courseCd='\n",
    "    u2 = '&constractNo=2'\n",
    "    driver.get(u1+code+u2)\n",
    "    driver.find_element_by_name('ctl00$ContentPlaceHolder1$StartDate').clear\n",
    "    driver.find_element_by_name('ctl00$ContentPlaceHolder1$StartDate').send_keys('2019-12-01')\n",
    "    from selenium.webdriver.common.keys import Keys\n",
    "    driver.find_element_by_xpath(\"/html/body/form/div[3]/div[2]/div/div/a\").send_keys(Keys.ENTER)\n",
    "    \n",
    "def check2(code):\n",
    "    u1 = 'http://hcms.hunet.co.kr/Course/ConstractModify.aspx?partnerId=intouch&courseCd='\n",
    "    u2 = '&constractNo=3'\n",
    "    driver.get(u1+code+u2)\n",
    "    \n",
    "def renew2(code):\n",
    "    driver.find_element_by_name('ctl00$ContentPlaceHolder1$StartDate').clear()\n",
    "    driver.find_element_by_name('ctl00$ContentPlaceHolder1$StartDate').send_keys('2019-12-01')\n",
    "    from selenium.webdriver.common.keys import Keys\n",
    "    driver.find_element_by_xpath(\"/html/body/form/div[3]/div[2]/div/div/a\").send_keys(Keys.ENTER)"
   ]
  },
  {
   "cell_type": "code",
   "execution_count": 288,
   "metadata": {},
   "outputs": [],
   "source": [
    "code = 'HLSC18427'\n",
    "u1 = 'http://hcms.hunet.co.kr/Course/ConstractModify.aspx?partnerId=intouch&courseCd='\n",
    "u2 = '&constractNo=3'\n",
    "driver.get(u1+code+u2)"
   ]
  },
  {
   "cell_type": "code",
   "execution_count": 289,
   "metadata": {},
   "outputs": [],
   "source": [
    "renew2(code)"
   ]
  },
  {
   "cell_type": "code",
   "execution_count": 300,
   "metadata": {},
   "outputs": [],
   "source": [
    "code = 'HLSC30857'\n",
    "\n",
    "u3= 'http://hcms.hunet.co.kr/Course/View.aspx?partnerId=intouch&CourseCd=HLSC30855&pageIndex=0&pageSize=10&searchPartnerNm=&searchCourseNm=&searchCpRegisterConfirmYn='\n",
    "driver.get(u3+code)\n",
    "driver.find_element_by_id(\"ctl00_ContentPlaceHolder1_lbtnConstractList\").send_keys(Keys.ENTER)\n",
    "\n"
   ]
  },
  {
   "cell_type": "code",
   "execution_count": null,
   "metadata": {},
   "outputs": [],
   "source": []
  }
 ],
 "metadata": {
  "kernelspec": {
   "display_name": "Python 3",
   "language": "python",
   "name": "python3"
  },
  "language_info": {
   "codemirror_mode": {
    "name": "ipython",
    "version": 3
   },
   "file_extension": ".py",
   "mimetype": "text/x-python",
   "name": "python",
   "nbconvert_exporter": "python",
   "pygments_lexer": "ipython3",
   "version": "3.7.3"
  }
 },
 "nbformat": 4,
 "nbformat_minor": 4
}
